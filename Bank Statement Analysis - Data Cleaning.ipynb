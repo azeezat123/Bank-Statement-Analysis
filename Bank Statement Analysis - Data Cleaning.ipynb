{
 "cells": [
  {
   "cell_type": "markdown",
   "id": "12d35905",
   "metadata": {},
   "source": [
    "# Bank Statement Analysis - Data Cleaning and Preparation\n",
    "\n",
    "* Importing the necessary libraries."
   ]
  },
  {
   "cell_type": "code",
   "execution_count": 1,
   "id": "d693a0da",
   "metadata": {},
   "outputs": [],
   "source": [
    "import pandas as pd \n",
    "import numpy as np"
   ]
  },
  {
   "cell_type": "markdown",
   "id": "3caa26d2",
   "metadata": {},
   "source": [
    "* Loading the dataset into a dataframe"
   ]
  },
  {
   "cell_type": "code",
   "execution_count": 2,
   "id": "09c739f1",
   "metadata": {},
   "outputs": [],
   "source": [
    "df = pd.read_csv(\"bank_statement.csv\")"
   ]
  },
  {
   "cell_type": "markdown",
   "id": "beba730f",
   "metadata": {},
   "source": [
    "The data cleaning and preparation process involves:\n",
    "\n",
    "1. Visual and programmatic assessments to identify any data quality issues\n",
    "2. Rectifying and cleaning the data to address the identified issues."
   ]
  },
  {
   "cell_type": "markdown",
   "id": "3d16a167",
   "metadata": {},
   "source": [
    "### 1.  Assesing the data\n",
    "\n",
    "* Display the first five rows"
   ]
  },
  {
   "cell_type": "code",
   "execution_count": 3,
   "id": "9e84dc9e",
   "metadata": {
    "scrolled": false
   },
   "outputs": [
    {
     "data": {
      "text/html": [
       "<div>\n",
       "<style scoped>\n",
       "    .dataframe tbody tr th:only-of-type {\n",
       "        vertical-align: middle;\n",
       "    }\n",
       "\n",
       "    .dataframe tbody tr th {\n",
       "        vertical-align: top;\n",
       "    }\n",
       "\n",
       "    .dataframe thead th {\n",
       "        text-align: right;\n",
       "    }\n",
       "</style>\n",
       "<table border=\"1\" class=\"dataframe\">\n",
       "  <thead>\n",
       "    <tr style=\"text-align: right;\">\n",
       "      <th></th>\n",
       "      <th>Trans. Date</th>\n",
       "      <th>Value. Date</th>\n",
       "      <th>Reference</th>\n",
       "      <th>Debits</th>\n",
       "      <th>Credits</th>\n",
       "      <th>Balance</th>\n",
       "      <th>Originating Branch</th>\n",
       "      <th>Remarks</th>\n",
       "    </tr>\n",
       "  </thead>\n",
       "  <tbody>\n",
       "    <tr>\n",
       "      <th>0</th>\n",
       "      <td>01-Jun-21</td>\n",
       "      <td>01-Jun-21</td>\n",
       "      <td>0NIPT</td>\n",
       "      <td>NaN</td>\n",
       "      <td>23,125.00</td>\n",
       "      <td>30,543.27</td>\n",
       "      <td>E- CHANNELS</td>\n",
       "      <td>TRANSFER BETWEEN CUSTOMERS\\n000014210601170721...</td>\n",
       "    </tr>\n",
       "    <tr>\n",
       "      <th>1</th>\n",
       "      <td>01-Jun-21</td>\n",
       "      <td>01-Jun-21</td>\n",
       "      <td>0USAT</td>\n",
       "      <td>500</td>\n",
       "      <td>NaN</td>\n",
       "      <td>30,043.27</td>\n",
       "      <td>E- CHANNELS</td>\n",
       "      <td>Airtime Purchase USSD-\\n101CT00000000026351673...</td>\n",
       "    </tr>\n",
       "    <tr>\n",
       "      <th>2</th>\n",
       "      <td>01-Jun-21</td>\n",
       "      <td>01-Jun-21</td>\n",
       "      <td>0NIPU</td>\n",
       "      <td>1,000.00</td>\n",
       "      <td>NaN</td>\n",
       "      <td>29,043.27</td>\n",
       "      <td>E- CHANNELS</td>\n",
       "      <td>NIBSS Instant Payment Outward\\n000013210601211...</td>\n",
       "    </tr>\n",
       "    <tr>\n",
       "      <th>3</th>\n",
       "      <td>NaN</td>\n",
       "      <td>NaN</td>\n",
       "      <td>NaN</td>\n",
       "      <td>NaN</td>\n",
       "      <td>NaN</td>\n",
       "      <td>NaN</td>\n",
       "      <td>NaN</td>\n",
       "      <td>TRANSFER BETWEEN CUSTOMERS\\n/10.75/REF:0000132...</td>\n",
       "    </tr>\n",
       "    <tr>\n",
       "      <th>4</th>\n",
       "      <td>01-Jun-21</td>\n",
       "      <td>01-Jun-21</td>\n",
       "      <td>0NIPU</td>\n",
       "      <td>10</td>\n",
       "      <td>NaN</td>\n",
       "      <td>29,033.27</td>\n",
       "      <td>E- CHANNELS</td>\n",
       "      <td>COMMISSION 000013210601211604000160255717\\nUSS...</td>\n",
       "    </tr>\n",
       "  </tbody>\n",
       "</table>\n",
       "</div>"
      ],
      "text/plain": [
       "  Trans. Date Value. Date Reference    Debits    Credits    Balance  \\\n",
       "0   01-Jun-21   01-Jun-21     0NIPT       NaN  23,125.00  30,543.27   \n",
       "1   01-Jun-21   01-Jun-21     0USAT       500        NaN  30,043.27   \n",
       "2   01-Jun-21   01-Jun-21     0NIPU  1,000.00        NaN  29,043.27   \n",
       "3         NaN         NaN       NaN       NaN        NaN        NaN   \n",
       "4   01-Jun-21   01-Jun-21     0NIPU        10        NaN  29,033.27   \n",
       "\n",
       "  Originating Branch                                            Remarks  \n",
       "0        E- CHANNELS  TRANSFER BETWEEN CUSTOMERS\\n000014210601170721...  \n",
       "1        E- CHANNELS  Airtime Purchase USSD-\\n101CT00000000026351673...  \n",
       "2        E- CHANNELS  NIBSS Instant Payment Outward\\n000013210601211...  \n",
       "3                NaN  TRANSFER BETWEEN CUSTOMERS\\n/10.75/REF:0000132...  \n",
       "4        E- CHANNELS  COMMISSION 000013210601211604000160255717\\nUSS...  "
      ]
     },
     "execution_count": 3,
     "metadata": {},
     "output_type": "execute_result"
    }
   ],
   "source": [
    "df.head()"
   ]
  },
  {
   "cell_type": "markdown",
   "id": "0edd59a4",
   "metadata": {},
   "source": [
    "* To obtain information about the DataFrame"
   ]
  },
  {
   "cell_type": "code",
   "execution_count": 4,
   "id": "fb78e9fa",
   "metadata": {
    "scrolled": false
   },
   "outputs": [
    {
     "name": "stdout",
     "output_type": "stream",
     "text": [
      "<class 'pandas.core.frame.DataFrame'>\n",
      "RangeIndex: 1396 entries, 0 to 1395\n",
      "Data columns (total 8 columns):\n",
      " #   Column              Non-Null Count  Dtype \n",
      "---  ------              --------------  ----- \n",
      " 0   Trans. Date         1273 non-null   object\n",
      " 1   Value. Date         1273 non-null   object\n",
      " 2   Reference           1273 non-null   object\n",
      " 3   Debits              1108 non-null   object\n",
      " 4   Credits             165 non-null    object\n",
      " 5   Balance             1273 non-null   object\n",
      " 6   Originating Branch  1273 non-null   object\n",
      " 7   Remarks             1363 non-null   object\n",
      "dtypes: object(8)\n",
      "memory usage: 87.4+ KB\n"
     ]
    }
   ],
   "source": [
    "df.info()"
   ]
  },
  {
   "cell_type": "markdown",
   "id": "6fb994b5",
   "metadata": {},
   "source": [
    "### 2.  Rectifying and cleaning the data\n",
    "\n",
    "Some slight adjustments\n",
    "\n",
    "* Renaming the columns"
   ]
  },
  {
   "cell_type": "code",
   "execution_count": 5,
   "id": "595b18bb",
   "metadata": {},
   "outputs": [
    {
     "data": {
      "text/plain": [
       "Index(['trans_date', 'value_date', 'reference', 'debits', 'credits', 'balance',\n",
       "       'originating_branch', 'remarks'],\n",
       "      dtype='object')"
      ]
     },
     "execution_count": 5,
     "metadata": {},
     "output_type": "execute_result"
    }
   ],
   "source": [
    "for col in df.columns:\n",
    "    new_col = col.replace(\".\", \"\").replace(\" \", \"_\").lower()\n",
    "    df.rename(columns={col: new_col}, inplace=True)\n",
    "df.columns"
   ]
  },
  {
   "cell_type": "markdown",
   "id": "c2628821",
   "metadata": {},
   "source": [
    "* Dropping the 'value_date' and 'reference' columns from the dataframe using the drop() function. These columns are deemed unnecessary for the analysis, and their removal allows for a more streamlined and efficient analysis."
   ]
  },
  {
   "cell_type": "code",
   "execution_count": 6,
   "id": "1295578b",
   "metadata": {
    "scrolled": true
   },
   "outputs": [
    {
     "data": {
      "text/plain": [
       "Index(['trans_date', 'debits', 'credits', 'balance', 'originating_branch',\n",
       "       'remarks'],\n",
       "      dtype='object')"
      ]
     },
     "execution_count": 6,
     "metadata": {},
     "output_type": "execute_result"
    }
   ],
   "source": [
    "df.drop(['value_date', 'reference'], axis =1, inplace=True)\n",
    "df.columns"
   ]
  },
  {
   "cell_type": "markdown",
   "id": "737c4a15",
   "metadata": {},
   "source": [
    "* Returning the total number of null values in each column of the dataframe to identify which missing values needS further cleaning and which should be removed"
   ]
  },
  {
   "cell_type": "code",
   "execution_count": 7,
   "id": "03bec3c7",
   "metadata": {
    "scrolled": true
   },
   "outputs": [
    {
     "data": {
      "text/plain": [
       "trans_date             123\n",
       "debits                 288\n",
       "credits               1231\n",
       "balance                123\n",
       "originating_branch     123\n",
       "remarks                 33\n",
       "dtype: int64"
      ]
     },
     "execution_count": 7,
     "metadata": {},
     "output_type": "execute_result"
    }
   ],
   "source": [
    "df.isna().sum()"
   ]
  },
  {
   "cell_type": "markdown",
   "id": "f8799437",
   "metadata": {},
   "source": [
    "* Removing rows with null values in the 'trans_date' column, this is necessary to ensure the accuracy and reliability of the remaining data for analysis, as the 'trans_date' column is a crucial attribute for this dataset and cannot have null values"
   ]
  },
  {
   "cell_type": "code",
   "execution_count": 8,
   "id": "09ad1992",
   "metadata": {
    "scrolled": true
   },
   "outputs": [
    {
     "data": {
      "text/plain": [
       "trans_date               0\n",
       "debits                 165\n",
       "credits               1108\n",
       "balance                  0\n",
       "originating_branch       0\n",
       "remarks                  0\n",
       "dtype: int64"
      ]
     },
     "execution_count": 8,
     "metadata": {},
     "output_type": "execute_result"
    }
   ],
   "source": [
    "null_rows = np.where(pd.isnull(df.trans_date))[0]\n",
    "\n",
    "df.drop(labels=null_rows, inplace=True)\n",
    "\n",
    "df.isna().sum()"
   ]
  },
  {
   "cell_type": "markdown",
   "id": "119a51b6",
   "metadata": {},
   "source": [
    "* Reseting the index of the dataframe after dropping the null rows to ensure that it is ordered sequentially."
   ]
  },
  {
   "cell_type": "code",
   "execution_count": 9,
   "id": "b0240f74",
   "metadata": {
    "scrolled": true
   },
   "outputs": [],
   "source": [
    "df.reset_index(drop=True, inplace=True)"
   ]
  },
  {
   "cell_type": "markdown",
   "id": "9df2b9fb",
   "metadata": {},
   "source": [
    "* Replacing the null values in the 'credit' and 'debit' columns with 0 ensures that there are no missing values in the dataset that can potentially affect the data accuracy. This also makes it easier to perform mathematical operations on the data and eliminates the risk of errors or biases in the analysis. "
   ]
  },
  {
   "cell_type": "code",
   "execution_count": 10,
   "id": "aedafe0b",
   "metadata": {
    "scrolled": true
   },
   "outputs": [
    {
     "data": {
      "text/plain": [
       "trans_date            0\n",
       "debits                0\n",
       "credits               0\n",
       "balance               0\n",
       "originating_branch    0\n",
       "remarks               0\n",
       "dtype: int64"
      ]
     },
     "execution_count": 10,
     "metadata": {},
     "output_type": "execute_result"
    }
   ],
   "source": [
    "df.fillna(0, inplace=True)\n",
    "df.isna().sum()"
   ]
  },
  {
   "cell_type": "markdown",
   "id": "bffec41e",
   "metadata": {},
   "source": [
    "* Checking for duplicate values"
   ]
  },
  {
   "cell_type": "code",
   "execution_count": 11,
   "id": "7dc24986",
   "metadata": {
    "scrolled": true
   },
   "outputs": [
    {
     "name": "stdout",
     "output_type": "stream",
     "text": [
      "There are 0 duplicate records\n"
     ]
    }
   ],
   "source": [
    "duplicate = sum(df.duplicated())\n",
    "\n",
    "print(f'There are {duplicate} duplicate records')"
   ]
  },
  {
   "cell_type": "markdown",
   "id": "828330f1",
   "metadata": {},
   "source": [
    "* Converting the 'trans_date' column to a datetime format"
   ]
  },
  {
   "cell_type": "code",
   "execution_count": 12,
   "id": "65bf5bd4",
   "metadata": {},
   "outputs": [],
   "source": [
    "df['trans_date'] = pd.to_datetime(df['trans_date'])"
   ]
  },
  {
   "cell_type": "markdown",
   "id": "07529c46",
   "metadata": {},
   "source": [
    "* Viewing the cleaned data"
   ]
  },
  {
   "cell_type": "code",
   "execution_count": 13,
   "id": "4b5be604",
   "metadata": {},
   "outputs": [
    {
     "data": {
      "text/html": [
       "<div>\n",
       "<style scoped>\n",
       "    .dataframe tbody tr th:only-of-type {\n",
       "        vertical-align: middle;\n",
       "    }\n",
       "\n",
       "    .dataframe tbody tr th {\n",
       "        vertical-align: top;\n",
       "    }\n",
       "\n",
       "    .dataframe thead th {\n",
       "        text-align: right;\n",
       "    }\n",
       "</style>\n",
       "<table border=\"1\" class=\"dataframe\">\n",
       "  <thead>\n",
       "    <tr style=\"text-align: right;\">\n",
       "      <th></th>\n",
       "      <th>trans_date</th>\n",
       "      <th>debits</th>\n",
       "      <th>credits</th>\n",
       "      <th>balance</th>\n",
       "      <th>originating_branch</th>\n",
       "      <th>remarks</th>\n",
       "    </tr>\n",
       "  </thead>\n",
       "  <tbody>\n",
       "    <tr>\n",
       "      <th>0</th>\n",
       "      <td>2021-06-01</td>\n",
       "      <td>0</td>\n",
       "      <td>23,125.00</td>\n",
       "      <td>30,543.27</td>\n",
       "      <td>E- CHANNELS</td>\n",
       "      <td>TRANSFER BETWEEN CUSTOMERS\\n000014210601170721...</td>\n",
       "    </tr>\n",
       "    <tr>\n",
       "      <th>1</th>\n",
       "      <td>2021-06-01</td>\n",
       "      <td>500</td>\n",
       "      <td>0</td>\n",
       "      <td>30,043.27</td>\n",
       "      <td>E- CHANNELS</td>\n",
       "      <td>Airtime Purchase USSD-\\n101CT00000000026351673...</td>\n",
       "    </tr>\n",
       "    <tr>\n",
       "      <th>2</th>\n",
       "      <td>2021-06-01</td>\n",
       "      <td>1,000.00</td>\n",
       "      <td>0</td>\n",
       "      <td>29,043.27</td>\n",
       "      <td>E- CHANNELS</td>\n",
       "      <td>NIBSS Instant Payment Outward\\n000013210601211...</td>\n",
       "    </tr>\n",
       "    <tr>\n",
       "      <th>3</th>\n",
       "      <td>2021-06-01</td>\n",
       "      <td>10</td>\n",
       "      <td>0</td>\n",
       "      <td>29,033.27</td>\n",
       "      <td>E- CHANNELS</td>\n",
       "      <td>COMMISSION 000013210601211604000160255717\\nUSS...</td>\n",
       "    </tr>\n",
       "    <tr>\n",
       "      <th>4</th>\n",
       "      <td>2021-06-01</td>\n",
       "      <td>0.75</td>\n",
       "      <td>0</td>\n",
       "      <td>29,032.52</td>\n",
       "      <td>E- CHANNELS</td>\n",
       "      <td>VALUE ADDED TAX\\n00001321060121160400016025571...</td>\n",
       "    </tr>\n",
       "  </tbody>\n",
       "</table>\n",
       "</div>"
      ],
      "text/plain": [
       "  trans_date    debits    credits    balance originating_branch  \\\n",
       "0 2021-06-01         0  23,125.00  30,543.27        E- CHANNELS   \n",
       "1 2021-06-01       500          0  30,043.27        E- CHANNELS   \n",
       "2 2021-06-01  1,000.00          0  29,043.27        E- CHANNELS   \n",
       "3 2021-06-01        10          0  29,033.27        E- CHANNELS   \n",
       "4 2021-06-01      0.75          0  29,032.52        E- CHANNELS   \n",
       "\n",
       "                                             remarks  \n",
       "0  TRANSFER BETWEEN CUSTOMERS\\n000014210601170721...  \n",
       "1  Airtime Purchase USSD-\\n101CT00000000026351673...  \n",
       "2  NIBSS Instant Payment Outward\\n000013210601211...  \n",
       "3  COMMISSION 000013210601211604000160255717\\nUSS...  \n",
       "4  VALUE ADDED TAX\\n00001321060121160400016025571...  "
      ]
     },
     "execution_count": 13,
     "metadata": {},
     "output_type": "execute_result"
    }
   ],
   "source": [
    "df.head()"
   ]
  },
  {
   "cell_type": "markdown",
   "id": "6be7afab",
   "metadata": {},
   "source": [
    "* Saving the cleaned DataFrame as a CSV file on my local drive"
   ]
  },
  {
   "cell_type": "code",
   "execution_count": 14,
   "id": "c8c40714",
   "metadata": {},
   "outputs": [],
   "source": [
    "df.to_csv(\"statement.csv\")"
   ]
  }
 ],
 "metadata": {
  "kernelspec": {
   "display_name": "Python 3 (ipykernel)",
   "language": "python",
   "name": "python3"
  },
  "language_info": {
   "codemirror_mode": {
    "name": "ipython",
    "version": 3
   },
   "file_extension": ".py",
   "mimetype": "text/x-python",
   "name": "python",
   "nbconvert_exporter": "python",
   "pygments_lexer": "ipython3",
   "version": "3.10.9"
  }
 },
 "nbformat": 4,
 "nbformat_minor": 5
}
